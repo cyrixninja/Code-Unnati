{
 "cells": [
  {
   "cell_type": "code",
   "execution_count": 1,
   "metadata": {},
   "outputs": [],
   "source": [
    "# Import Pandas\n",
    "# To work with DataFrames we use Pandas\n",
    "# We use pandas for data manipulation, data cleaning and data analysis\n",
    "# Pandas is utilised to format the data structure. It means it can convert any data structure into a Pandas DataFrame\n",
    "import pandas as pd\n",
    "\n",
    "# Import Numpy\n",
    "# To find Statistical Summaries we use Numpy\n",
    "import numpy as np\n",
    "\n",
    "# Import subpackage of matplotlib \n",
    "import matplotlib.pyplot as plt\n",
    "\n",
    "# Import Seaborn\n",
    "import seaborn as sns\n",
    "\n",
    "# To Supress Warnings\n",
    "from warnings import filterwarnings\n",
    "filterwarnings('ignore')\n",
    "\n"
   ]
  },
  {
   "cell_type": "markdown",
   "metadata": {},
   "source": [
    "### Load the dataset"
   ]
  },
  {
   "cell_type": "code",
   "execution_count": 2,
   "metadata": {},
   "outputs": [
    {
     "data": {
      "text/html": [
       "<div>\n",
       "<style scoped>\n",
       "    .dataframe tbody tr th:only-of-type {\n",
       "        vertical-align: middle;\n",
       "    }\n",
       "\n",
       "    .dataframe tbody tr th {\n",
       "        vertical-align: top;\n",
       "    }\n",
       "\n",
       "    .dataframe thead th {\n",
       "        text-align: right;\n",
       "    }\n",
       "</style>\n",
       "<table border=\"1\" class=\"dataframe\">\n",
       "  <thead>\n",
       "    <tr style=\"text-align: right;\">\n",
       "      <th></th>\n",
       "      <th>price</th>\n",
       "      <th>resid_area</th>\n",
       "      <th>air_qual</th>\n",
       "      <th>room_num</th>\n",
       "      <th>age</th>\n",
       "      <th>distance</th>\n",
       "      <th>teachers</th>\n",
       "      <th>poor_prop</th>\n",
       "      <th>airport</th>\n",
       "      <th>n_hos_beds</th>\n",
       "      <th>n_hot_rooms</th>\n",
       "      <th>waterbody</th>\n",
       "      <th>rainfall</th>\n",
       "      <th>bus_ter</th>\n",
       "      <th>parks</th>\n",
       "      <th>Sold</th>\n",
       "    </tr>\n",
       "  </thead>\n",
       "  <tbody>\n",
       "    <tr>\n",
       "      <th>0</th>\n",
       "      <td>24.0</td>\n",
       "      <td>32.31</td>\n",
       "      <td>0.538</td>\n",
       "      <td>6.575</td>\n",
       "      <td>65.2</td>\n",
       "      <td>4.35</td>\n",
       "      <td>24.7</td>\n",
       "      <td>4.98</td>\n",
       "      <td>YES</td>\n",
       "      <td>5.480</td>\n",
       "      <td>11.1920</td>\n",
       "      <td>River</td>\n",
       "      <td>23</td>\n",
       "      <td>YES</td>\n",
       "      <td>0.049347</td>\n",
       "      <td>0</td>\n",
       "    </tr>\n",
       "    <tr>\n",
       "      <th>1</th>\n",
       "      <td>21.6</td>\n",
       "      <td>37.07</td>\n",
       "      <td>0.469</td>\n",
       "      <td>6.421</td>\n",
       "      <td>78.9</td>\n",
       "      <td>4.99</td>\n",
       "      <td>22.2</td>\n",
       "      <td>9.14</td>\n",
       "      <td>NO</td>\n",
       "      <td>7.332</td>\n",
       "      <td>12.1728</td>\n",
       "      <td>Lake</td>\n",
       "      <td>42</td>\n",
       "      <td>YES</td>\n",
       "      <td>0.046146</td>\n",
       "      <td>1</td>\n",
       "    </tr>\n",
       "    <tr>\n",
       "      <th>2</th>\n",
       "      <td>34.7</td>\n",
       "      <td>37.07</td>\n",
       "      <td>0.469</td>\n",
       "      <td>7.185</td>\n",
       "      <td>61.1</td>\n",
       "      <td>5.03</td>\n",
       "      <td>22.2</td>\n",
       "      <td>4.03</td>\n",
       "      <td>NO</td>\n",
       "      <td>7.394</td>\n",
       "      <td>101.1200</td>\n",
       "      <td>NaN</td>\n",
       "      <td>38</td>\n",
       "      <td>YES</td>\n",
       "      <td>0.045764</td>\n",
       "      <td>0</td>\n",
       "    </tr>\n",
       "    <tr>\n",
       "      <th>3</th>\n",
       "      <td>33.4</td>\n",
       "      <td>32.18</td>\n",
       "      <td>0.458</td>\n",
       "      <td>6.998</td>\n",
       "      <td>45.8</td>\n",
       "      <td>6.21</td>\n",
       "      <td>21.3</td>\n",
       "      <td>2.94</td>\n",
       "      <td>YES</td>\n",
       "      <td>9.268</td>\n",
       "      <td>11.2672</td>\n",
       "      <td>Lake</td>\n",
       "      <td>45</td>\n",
       "      <td>YES</td>\n",
       "      <td>0.047151</td>\n",
       "      <td>0</td>\n",
       "    </tr>\n",
       "    <tr>\n",
       "      <th>4</th>\n",
       "      <td>36.2</td>\n",
       "      <td>32.18</td>\n",
       "      <td>0.458</td>\n",
       "      <td>7.147</td>\n",
       "      <td>54.2</td>\n",
       "      <td>6.16</td>\n",
       "      <td>21.3</td>\n",
       "      <td>5.33</td>\n",
       "      <td>NO</td>\n",
       "      <td>8.824</td>\n",
       "      <td>11.2896</td>\n",
       "      <td>Lake</td>\n",
       "      <td>55</td>\n",
       "      <td>YES</td>\n",
       "      <td>0.039474</td>\n",
       "      <td>0</td>\n",
       "    </tr>\n",
       "  </tbody>\n",
       "</table>\n",
       "</div>"
      ],
      "text/plain": [
       "   price  resid_area  air_qual  room_num   age  distance  teachers  poor_prop  \\\n",
       "0   24.0       32.31     0.538     6.575  65.2      4.35      24.7       4.98   \n",
       "1   21.6       37.07     0.469     6.421  78.9      4.99      22.2       9.14   \n",
       "2   34.7       37.07     0.469     7.185  61.1      5.03      22.2       4.03   \n",
       "3   33.4       32.18     0.458     6.998  45.8      6.21      21.3       2.94   \n",
       "4   36.2       32.18     0.458     7.147  54.2      6.16      21.3       5.33   \n",
       "\n",
       "  airport  n_hos_beds  n_hot_rooms waterbody  rainfall bus_ter     parks  Sold  \n",
       "0     YES       5.480      11.1920     River        23     YES  0.049347     0  \n",
       "1      NO       7.332      12.1728      Lake        42     YES  0.046146     1  \n",
       "2      NO       7.394     101.1200       NaN        38     YES  0.045764     0  \n",
       "3     YES       9.268      11.2672      Lake        45     YES  0.047151     0  \n",
       "4      NO       8.824      11.2896      Lake        55     YES  0.039474     0  "
      ]
     },
     "execution_count": 2,
     "metadata": {},
     "output_type": "execute_result"
    }
   ],
   "source": [
    "# Load the data and name it as df_house_price\n",
    "df_house_price = pd.read_csv('house_price.csv')\n",
    "\n",
    "#display the first five observations using head()\n",
    "df_house_price.head()"
   ]
  },
  {
   "cell_type": "markdown",
   "metadata": {},
   "source": [
    "## Data Overview "
   ]
  },
  {
   "cell_type": "code",
   "execution_count": 3,
   "metadata": {},
   "outputs": [
    {
     "data": {
      "text/plain": [
       "Index(['price', 'resid_area', 'air_qual', 'room_num', 'age', 'distance',\n",
       "       'teachers', 'poor_prop', 'airport', 'n_hos_beds', 'n_hot_rooms',\n",
       "       'waterbody', 'rainfall', 'bus_ter', 'parks', 'Sold'],\n",
       "      dtype='object')"
      ]
     },
     "execution_count": 3,
     "metadata": {},
     "output_type": "execute_result"
    }
   ],
   "source": [
    "# Name the Coloumns\n",
    "df_house_price.columns"
   ]
  },
  {
   "cell_type": "markdown",
   "metadata": {},
   "source": [
    "**Interpretation**\n",
    "\n",
    "- `price` : Price of the House. \n",
    "- `resid_area` : Resedential Area where my house is located\n",
    "- `air_qual` : Air Quality near the house\n",
    "- ``\n",
    "- ``\n",
    "  "
   ]
  },
  {
   "cell_type": "code",
   "execution_count": 4,
   "metadata": {},
   "outputs": [
    {
     "name": "stdout",
     "output_type": "stream",
     "text": [
      "<class 'pandas.core.frame.DataFrame'>\n",
      "RangeIndex: 506 entries, 0 to 505\n",
      "Data columns (total 16 columns):\n",
      " #   Column       Non-Null Count  Dtype  \n",
      "---  ------       --------------  -----  \n",
      " 0   price        506 non-null    float64\n",
      " 1   resid_area   506 non-null    float64\n",
      " 2   air_qual     506 non-null    float64\n",
      " 3   room_num     506 non-null    float64\n",
      " 4   age          506 non-null    float64\n",
      " 5   distance     506 non-null    float64\n",
      " 6   teachers     506 non-null    float64\n",
      " 7   poor_prop    506 non-null    float64\n",
      " 8   airport      506 non-null    object \n",
      " 9   n_hos_beds   498 non-null    float64\n",
      " 10  n_hot_rooms  506 non-null    float64\n",
      " 11  waterbody    351 non-null    object \n",
      " 12  rainfall     506 non-null    int64  \n",
      " 13  bus_ter      506 non-null    object \n",
      " 14  parks        506 non-null    float64\n",
      " 15  Sold         506 non-null    int64  \n",
      "dtypes: float64(11), int64(2), object(3)\n",
      "memory usage: 63.4+ KB\n"
     ]
    }
   ],
   "source": [
    "# Basic Info of the Dataset\n",
    "df_house_price.info()"
   ]
  },
  {
   "cell_type": "markdown",
   "metadata": {},
   "source": [
    "**Interpretation**\n",
    " - We have 13 Numerical columns & 3 Categorical Columns\n",
    " - We have null values in the data\n",
    " - We have total 16 columns in the data\n",
    "  "
   ]
  },
  {
   "cell_type": "code",
   "execution_count": 5,
   "metadata": {},
   "outputs": [
    {
     "data": {
      "text/plain": [
       "(506, 16)"
      ]
     },
     "execution_count": 5,
     "metadata": {},
     "output_type": "execute_result"
    }
   ],
   "source": [
    "# Shape of the data\n",
    "df_house_price.shape"
   ]
  },
  {
   "cell_type": "markdown",
   "metadata": {},
   "source": [
    "**Interpretations** \n",
    "- We have total 16 columns \n",
    "- We have 506 Observations"
   ]
  },
  {
   "cell_type": "markdown",
   "metadata": {},
   "source": [
    "**Interpretation**\n",
    " - We have outliers in the data , most of the outliers are in age coloumn"
   ]
  },
  {
   "cell_type": "markdown",
   "metadata": {},
   "source": [
    "## Data Preprocessing"
   ]
  },
  {
   "cell_type": "markdown",
   "metadata": {},
   "source": [
    "### A . Data Cleaning"
   ]
  },
  {
   "cell_type": "code",
   "execution_count": 6,
   "metadata": {},
   "outputs": [
    {
     "data": {
      "text/html": [
       "<div>\n",
       "<style scoped>\n",
       "    .dataframe tbody tr th:only-of-type {\n",
       "        vertical-align: middle;\n",
       "    }\n",
       "\n",
       "    .dataframe tbody tr th {\n",
       "        vertical-align: top;\n",
       "    }\n",
       "\n",
       "    .dataframe thead th {\n",
       "        text-align: right;\n",
       "    }\n",
       "</style>\n",
       "<table border=\"1\" class=\"dataframe\">\n",
       "  <thead>\n",
       "    <tr style=\"text-align: right;\">\n",
       "      <th></th>\n",
       "      <th>price</th>\n",
       "      <th>resid_area</th>\n",
       "      <th>air_qual</th>\n",
       "      <th>room_num</th>\n",
       "      <th>age</th>\n",
       "      <th>distance</th>\n",
       "      <th>teachers</th>\n",
       "      <th>poor_prop</th>\n",
       "      <th>airport</th>\n",
       "      <th>n_hos_beds</th>\n",
       "      <th>n_hot_rooms</th>\n",
       "      <th>waterbody</th>\n",
       "      <th>rainfall</th>\n",
       "      <th>bus_ter</th>\n",
       "      <th>parks</th>\n",
       "      <th>Sold</th>\n",
       "    </tr>\n",
       "  </thead>\n",
       "  <tbody>\n",
       "    <tr>\n",
       "      <th>0</th>\n",
       "      <td>24.0</td>\n",
       "      <td>32.31</td>\n",
       "      <td>0.538</td>\n",
       "      <td>6.575</td>\n",
       "      <td>65.2</td>\n",
       "      <td>4.35</td>\n",
       "      <td>24.7</td>\n",
       "      <td>4.98</td>\n",
       "      <td>YES</td>\n",
       "      <td>5.480</td>\n",
       "      <td>11.1920</td>\n",
       "      <td>River</td>\n",
       "      <td>23</td>\n",
       "      <td>YES</td>\n",
       "      <td>0.049347</td>\n",
       "      <td>0</td>\n",
       "    </tr>\n",
       "    <tr>\n",
       "      <th>1</th>\n",
       "      <td>21.6</td>\n",
       "      <td>37.07</td>\n",
       "      <td>0.469</td>\n",
       "      <td>6.421</td>\n",
       "      <td>78.9</td>\n",
       "      <td>4.99</td>\n",
       "      <td>22.2</td>\n",
       "      <td>9.14</td>\n",
       "      <td>NO</td>\n",
       "      <td>7.332</td>\n",
       "      <td>12.1728</td>\n",
       "      <td>Lake</td>\n",
       "      <td>42</td>\n",
       "      <td>YES</td>\n",
       "      <td>0.046146</td>\n",
       "      <td>1</td>\n",
       "    </tr>\n",
       "    <tr>\n",
       "      <th>2</th>\n",
       "      <td>34.7</td>\n",
       "      <td>37.07</td>\n",
       "      <td>0.469</td>\n",
       "      <td>7.185</td>\n",
       "      <td>61.1</td>\n",
       "      <td>5.03</td>\n",
       "      <td>22.2</td>\n",
       "      <td>4.03</td>\n",
       "      <td>NO</td>\n",
       "      <td>7.394</td>\n",
       "      <td>101.1200</td>\n",
       "      <td>NaN</td>\n",
       "      <td>38</td>\n",
       "      <td>YES</td>\n",
       "      <td>0.045764</td>\n",
       "      <td>0</td>\n",
       "    </tr>\n",
       "    <tr>\n",
       "      <th>3</th>\n",
       "      <td>33.4</td>\n",
       "      <td>32.18</td>\n",
       "      <td>0.458</td>\n",
       "      <td>6.998</td>\n",
       "      <td>45.8</td>\n",
       "      <td>6.21</td>\n",
       "      <td>21.3</td>\n",
       "      <td>2.94</td>\n",
       "      <td>YES</td>\n",
       "      <td>9.268</td>\n",
       "      <td>11.2672</td>\n",
       "      <td>Lake</td>\n",
       "      <td>45</td>\n",
       "      <td>YES</td>\n",
       "      <td>0.047151</td>\n",
       "      <td>0</td>\n",
       "    </tr>\n",
       "    <tr>\n",
       "      <th>4</th>\n",
       "      <td>36.2</td>\n",
       "      <td>32.18</td>\n",
       "      <td>0.458</td>\n",
       "      <td>7.147</td>\n",
       "      <td>54.2</td>\n",
       "      <td>6.16</td>\n",
       "      <td>21.3</td>\n",
       "      <td>5.33</td>\n",
       "      <td>NO</td>\n",
       "      <td>8.824</td>\n",
       "      <td>11.2896</td>\n",
       "      <td>Lake</td>\n",
       "      <td>55</td>\n",
       "      <td>YES</td>\n",
       "      <td>0.039474</td>\n",
       "      <td>0</td>\n",
       "    </tr>\n",
       "  </tbody>\n",
       "</table>\n",
       "</div>"
      ],
      "text/plain": [
       "   price  resid_area  air_qual  room_num   age  distance  teachers  poor_prop  \\\n",
       "0   24.0       32.31     0.538     6.575  65.2      4.35      24.7       4.98   \n",
       "1   21.6       37.07     0.469     6.421  78.9      4.99      22.2       9.14   \n",
       "2   34.7       37.07     0.469     7.185  61.1      5.03      22.2       4.03   \n",
       "3   33.4       32.18     0.458     6.998  45.8      6.21      21.3       2.94   \n",
       "4   36.2       32.18     0.458     7.147  54.2      6.16      21.3       5.33   \n",
       "\n",
       "  airport  n_hos_beds  n_hot_rooms waterbody  rainfall bus_ter     parks  Sold  \n",
       "0     YES       5.480      11.1920     River        23     YES  0.049347     0  \n",
       "1      NO       7.332      12.1728      Lake        42     YES  0.046146     1  \n",
       "2      NO       7.394     101.1200       NaN        38     YES  0.045764     0  \n",
       "3     YES       9.268      11.2672      Lake        45     YES  0.047151     0  \n",
       "4      NO       8.824      11.2896      Lake        55     YES  0.039474     0  "
      ]
     },
     "execution_count": 6,
     "metadata": {},
     "output_type": "execute_result"
    }
   ],
   "source": [
    "# Show the First 5 Observations\n",
    "df_house_price.head()"
   ]
  },
  {
   "cell_type": "code",
   "execution_count": 7,
   "metadata": {},
   "outputs": [
    {
     "data": {
      "text/plain": [
       "Index(['price', 'resid_area', 'air_qual', 'room_num', 'age', 'distance',\n",
       "       'teachers', 'poor_prop', 'airport', 'n_hos_beds', 'n_hot_rooms',\n",
       "       'waterbody', 'rainfall', 'bus_ter', 'parks', 'Sold'],\n",
       "      dtype='object')"
      ]
     },
     "execution_count": 7,
     "metadata": {},
     "output_type": "execute_result"
    }
   ],
   "source": [
    "# Rename the Columns\n",
    "# Step 1 : Show the Column Names\n",
    "df_house_price.columns"
   ]
  },
  {
   "cell_type": "code",
   "execution_count": 8,
   "metadata": {},
   "outputs": [],
   "source": [
    "# Step 2 : Allocate ew column names to Old Column Names\n",
    "# Make the Dictionary {'Old Column Name' : 'New Column Name'}\n",
    "d1 = {'price' : 'Price',\n",
    "      'resid_area' : 'Residential Area',\n",
    "      'air_qual' : 'Air Quality',\n",
    "      'room_num' : 'Room Numbers',\n",
    "      'age' : 'Age',\n",
    "      'distance' : 'Distance',\n",
    "      'teachers' : 'Teachers',\n",
    "      'poor_prop' : 'Proportion of Poor Population',\n",
    "      'airport' : 'Airport',\n",
    "      'n_hos_beds' : 'Number of Hospital Beds',\n",
    "      'n_hot_rooms' : 'Number of Hotel Rooms',\n",
    "      'waterbody' : 'Waterbody',\n",
    "      'rainfall' : 'Rainfall',\n",
    "      'bus_ter' : 'Bus Terminal',\n",
    "      'parks' : 'Parks',\n",
    "      'Sold' : 'Sold'}\n"
   ]
  },
  {
   "cell_type": "code",
   "execution_count": 9,
   "metadata": {},
   "outputs": [],
   "source": [
    "df_house_price = df_house_price.rename(columns = d1)"
   ]
  },
  {
   "cell_type": "code",
   "execution_count": 10,
   "metadata": {},
   "outputs": [
    {
     "data": {
      "text/plain": [
       "Index(['Price', 'Residential Area', 'Air Quality', 'Room Numbers', 'Age',\n",
       "       'Distance', 'Teachers', 'Proportion of Poor Population', 'Airport',\n",
       "       'Number of Hospital Beds', 'Number of Hotel Rooms', 'Waterbody',\n",
       "       'Rainfall', 'Bus Terminal', 'Parks', 'Sold'],\n",
       "      dtype='object')"
      ]
     },
     "execution_count": 10,
     "metadata": {},
     "output_type": "execute_result"
    }
   ],
   "source": [
    "# Authenticate the Results\n",
    "df_house_price.columns"
   ]
  },
  {
   "cell_type": "markdown",
   "metadata": {},
   "source": [
    "### B. Null Value Handling"
   ]
  },
  {
   "cell_type": "markdown",
   "metadata": {},
   "source": [
    "```\n",
    "Laws that we need to follow while processing the null values (Specially for Manufacturing)\n",
    " - When we have less than 15% data missing -> Remove the observation\n",
    " - Between 20% to 70% data missing -> Impute the null values\n",
    " - Greater than 75% Values missing -> Remove the Column\n",
    "```"
   ]
  },
  {
   "cell_type": "code",
   "execution_count": 11,
   "metadata": {},
   "outputs": [
    {
     "data": {
      "text/plain": [
       "Price                              0\n",
       "Residential Area                   0\n",
       "Air Quality                        0\n",
       "Room Numbers                       0\n",
       "Age                                0\n",
       "Distance                           0\n",
       "Teachers                           0\n",
       "Proportion of Poor Population      0\n",
       "Airport                            0\n",
       "Number of Hospital Beds            8\n",
       "Number of Hotel Rooms              0\n",
       "Waterbody                        155\n",
       "Rainfall                           0\n",
       "Bus Terminal                       0\n",
       "Parks                              0\n",
       "Sold                               0\n",
       "dtype: int64"
      ]
     },
     "execution_count": 11,
     "metadata": {},
     "output_type": "execute_result"
    }
   ],
   "source": [
    "# Find the Valid Null Values\n",
    "df_house_price.isnull().sum()"
   ]
  },
  {
   "cell_type": "code",
   "execution_count": 12,
   "metadata": {},
   "outputs": [
    {
     "data": {
      "text/plain": [
       "(Price                             0.0\n",
       " Residential Area                  0.0\n",
       " Air Quality                       0.0\n",
       " Room Numbers                      0.0\n",
       " Age                               0.0\n",
       " Distance                          0.0\n",
       " Teachers                          0.0\n",
       " Proportion of Poor Population     0.0\n",
       " Airport                           0.0\n",
       " Number of Hospital Beds           2.0\n",
       " Number of Hotel Rooms             0.0\n",
       " Waterbody                        31.0\n",
       " Rainfall                          0.0\n",
       " Bus Terminal                      0.0\n",
       " Parks                             0.0\n",
       " Sold                              0.0\n",
       " dtype: float64,\n",
       " 3)"
      ]
     },
     "execution_count": 12,
     "metadata": {},
     "output_type": "execute_result"
    }
   ],
   "source": [
    "# Percentage of Missing Values\n",
    "round(df_house_price.isnull().sum() / df_house_price.shape[0] * 100),3"
   ]
  },
  {
   "cell_type": "code",
   "execution_count": 13,
   "metadata": {},
   "outputs": [
    {
     "name": "stdout",
     "output_type": "stream",
     "text": [
      "<class 'pandas.core.frame.DataFrame'>\n",
      "RangeIndex: 506 entries, 0 to 505\n",
      "Data columns (total 16 columns):\n",
      " #   Column                         Non-Null Count  Dtype  \n",
      "---  ------                         --------------  -----  \n",
      " 0   Price                          506 non-null    float64\n",
      " 1   Residential Area               506 non-null    float64\n",
      " 2   Air Quality                    506 non-null    float64\n",
      " 3   Room Numbers                   506 non-null    float64\n",
      " 4   Age                            506 non-null    float64\n",
      " 5   Distance                       506 non-null    float64\n",
      " 6   Teachers                       506 non-null    float64\n",
      " 7   Proportion of Poor Population  506 non-null    float64\n",
      " 8   Airport                        506 non-null    object \n",
      " 9   Number of Hospital Beds        498 non-null    float64\n",
      " 10  Number of Hotel Rooms          506 non-null    float64\n",
      " 11  Waterbody                      351 non-null    object \n",
      " 12  Rainfall                       506 non-null    int64  \n",
      " 13  Bus Terminal                   506 non-null    object \n",
      " 14  Parks                          506 non-null    float64\n",
      " 15  Sold                           506 non-null    int64  \n",
      "dtypes: float64(11), int64(2), object(3)\n",
      "memory usage: 63.4+ KB\n"
     ]
    }
   ],
   "source": [
    "# Find the Nature of the Column \n",
    "df_house_price.info()"
   ]
  },
  {
   "cell_type": "code",
   "execution_count": 14,
   "metadata": {},
   "outputs": [
    {
     "data": {
      "text/plain": [
       "0    River\n",
       "Name: Waterbody, dtype: object"
      ]
     },
     "execution_count": 14,
     "metadata": {},
     "output_type": "execute_result"
    }
   ],
   "source": [
    "# This is a Categorical Column so we can replace the null with the mode\n",
    "df_house_price.Waterbody.mode()\n"
   ]
  },
  {
   "cell_type": "code",
   "execution_count": 15,
   "metadata": {},
   "outputs": [],
   "source": [
    "# Replace the Null Values\n",
    "df_house_price.Waterbody =  df_house_price.Waterbody.fillna('River')"
   ]
  },
  {
   "cell_type": "code",
   "execution_count": 16,
   "metadata": {},
   "outputs": [
    {
     "data": {
      "text/plain": [
       "(Price                            0.0\n",
       " Residential Area                 0.0\n",
       " Air Quality                      0.0\n",
       " Room Numbers                     0.0\n",
       " Age                              0.0\n",
       " Distance                         0.0\n",
       " Teachers                         0.0\n",
       " Proportion of Poor Population    0.0\n",
       " Airport                          0.0\n",
       " Number of Hospital Beds          2.0\n",
       " Number of Hotel Rooms            0.0\n",
       " Waterbody                        0.0\n",
       " Rainfall                         0.0\n",
       " Bus Terminal                     0.0\n",
       " Parks                            0.0\n",
       " Sold                             0.0\n",
       " dtype: float64,\n",
       " 3)"
      ]
     },
     "execution_count": 16,
     "metadata": {},
     "output_type": "execute_result"
    }
   ],
   "source": [
    "round(df_house_price.isnull().sum() / df_house_price.shape[0] * 100),3"
   ]
  },
  {
   "cell_type": "code",
   "execution_count": 17,
   "metadata": {},
   "outputs": [],
   "source": [
    "# In the Column 'Number of Hospital Beds' so we can drop the null values\n",
    "df_house_price.dropna(inplace=True)"
   ]
  },
  {
   "cell_type": "code",
   "execution_count": 18,
   "metadata": {},
   "outputs": [
    {
     "data": {
      "text/plain": [
       "(Price                            0.0\n",
       " Residential Area                 0.0\n",
       " Air Quality                      0.0\n",
       " Room Numbers                     0.0\n",
       " Age                              0.0\n",
       " Distance                         0.0\n",
       " Teachers                         0.0\n",
       " Proportion of Poor Population    0.0\n",
       " Airport                          0.0\n",
       " Number of Hospital Beds          0.0\n",
       " Number of Hotel Rooms            0.0\n",
       " Waterbody                        0.0\n",
       " Rainfall                         0.0\n",
       " Bus Terminal                     0.0\n",
       " Parks                            0.0\n",
       " Sold                             0.0\n",
       " dtype: float64,\n",
       " 3)"
      ]
     },
     "execution_count": 18,
     "metadata": {},
     "output_type": "execute_result"
    }
   ],
   "source": [
    "round(df_house_price.isnull().sum() / df_house_price.shape[0] * 100),3"
   ]
  },
  {
   "cell_type": "code",
   "execution_count": 19,
   "metadata": {},
   "outputs": [],
   "source": [
    "# Seperate the Target Variable and the Independent Variables\n",
    "target = df_house_price['Sold']\n",
    "\n"
   ]
  },
  {
   "cell_type": "code",
   "execution_count": 20,
   "metadata": {},
   "outputs": [],
   "source": [
    "# Independent Variables\n",
    "df_indpendent = df_house_price.drop('Sold', axis = 1)"
   ]
  },
  {
   "cell_type": "code",
   "execution_count": null,
   "metadata": {},
   "outputs": [],
   "source": []
  }
 ],
 "metadata": {
  "kernelspec": {
   "display_name": "Python 3",
   "language": "python",
   "name": "python3"
  },
  "language_info": {
   "codemirror_mode": {
    "name": "ipython",
    "version": 3
   },
   "file_extension": ".py",
   "mimetype": "text/x-python",
   "name": "python",
   "nbconvert_exporter": "python",
   "pygments_lexer": "ipython3",
   "version": "3.10.12"
  }
 },
 "nbformat": 4,
 "nbformat_minor": 2
}
