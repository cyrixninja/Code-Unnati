{
 "cells": [
  {
   "cell_type": "markdown",
   "metadata": {},
   "source": [
    "# It is a regression problem.\n"
   ]
  },
  {
   "cell_type": "markdown",
   "metadata": {},
   "source": [
    "## We are doing the machine learning on house price dataset. "
   ]
  },
  {
   "cell_type": "markdown",
   "metadata": {},
   "source": [
    "<table align = \"center\" width=\"100%\">\n",
    "<tr>\n",
    "</td>\n",
    "</td>\n",
    "</td>\n",
    "<td>\n",
    "<div align=\"center\">\n",
    "<font color=\"#21618c\" size=\"8px\">\n",
    "<b>  Regression modeling on House Price Data </b>\n",
    "</font>\n",
    "</div>\n",
    "</td>\n",
    "</tr>\n",
    "</table>"
   ]
  },
  {
   "cell_type": "markdown",
   "metadata": {},
   "source": [
    "# Problem Statement\n",
    "\n",
    "This dataset is created for the prediction of House Prices from an Indian perspective Towns. The dataset contains various features that are important during the application for the selling the Houses. The predicted output obtained from the classification algorithm gives a fair idea about the chances of a Houses Sold."
   ]
  },
  {
   "cell_type": "code",
   "execution_count": 106,
   "metadata": {},
   "outputs": [],
   "source": [
    "# Import Pandas\n",
    "# To work with DataFrames we use Pandas\n",
    "# We use pandas for data manipulation, data cleaning and data analysis\n",
    "# Pandas is utilised to format the data structure. It means it can convert any data structure into a Pandas DataFrame\n",
    "import pandas as pd\n",
    "\n",
    "# Import Numpy\n",
    "# To find Statistical Summaries we use Numpy\n",
    "import numpy as np\n",
    "\n",
    "# Import subpackage of matplotlib \n",
    "import matplotlib.pyplot as plt\n",
    "\n",
    "# Import Seaborn\n",
    "import seaborn as sns\n",
    "\n",
    "# To Supress Warnings\n",
    "from warnings import filterwarnings\n",
    "filterwarnings('ignore')\n",
    "\n"
   ]
  },
  {
   "cell_type": "markdown",
   "metadata": {},
   "source": [
    "### Load the dataset"
   ]
  },
  {
   "cell_type": "code",
   "execution_count": 107,
   "metadata": {},
   "outputs": [
    {
     "data": {
      "text/html": [
       "<div>\n",
       "<style scoped>\n",
       "    .dataframe tbody tr th:only-of-type {\n",
       "        vertical-align: middle;\n",
       "    }\n",
       "\n",
       "    .dataframe tbody tr th {\n",
       "        vertical-align: top;\n",
       "    }\n",
       "\n",
       "    .dataframe thead th {\n",
       "        text-align: right;\n",
       "    }\n",
       "</style>\n",
       "<table border=\"1\" class=\"dataframe\">\n",
       "  <thead>\n",
       "    <tr style=\"text-align: right;\">\n",
       "      <th></th>\n",
       "      <th>price</th>\n",
       "      <th>resid_area</th>\n",
       "      <th>air_qual</th>\n",
       "      <th>room_num</th>\n",
       "      <th>age</th>\n",
       "      <th>distance</th>\n",
       "      <th>teachers</th>\n",
       "      <th>poor_prop</th>\n",
       "      <th>airport</th>\n",
       "      <th>n_hos_beds</th>\n",
       "      <th>n_hot_rooms</th>\n",
       "      <th>waterbody</th>\n",
       "      <th>rainfall</th>\n",
       "      <th>bus_ter</th>\n",
       "      <th>parks</th>\n",
       "      <th>Sold</th>\n",
       "    </tr>\n",
       "  </thead>\n",
       "  <tbody>\n",
       "    <tr>\n",
       "      <th>0</th>\n",
       "      <td>24.0</td>\n",
       "      <td>32.31</td>\n",
       "      <td>0.538</td>\n",
       "      <td>6.575</td>\n",
       "      <td>65.2</td>\n",
       "      <td>4.35</td>\n",
       "      <td>24.7</td>\n",
       "      <td>4.98</td>\n",
       "      <td>YES</td>\n",
       "      <td>5.480</td>\n",
       "      <td>11.1920</td>\n",
       "      <td>River</td>\n",
       "      <td>23</td>\n",
       "      <td>YES</td>\n",
       "      <td>0.049347</td>\n",
       "      <td>0</td>\n",
       "    </tr>\n",
       "    <tr>\n",
       "      <th>1</th>\n",
       "      <td>21.6</td>\n",
       "      <td>37.07</td>\n",
       "      <td>0.469</td>\n",
       "      <td>6.421</td>\n",
       "      <td>78.9</td>\n",
       "      <td>4.99</td>\n",
       "      <td>22.2</td>\n",
       "      <td>9.14</td>\n",
       "      <td>NO</td>\n",
       "      <td>7.332</td>\n",
       "      <td>12.1728</td>\n",
       "      <td>Lake</td>\n",
       "      <td>42</td>\n",
       "      <td>YES</td>\n",
       "      <td>0.046146</td>\n",
       "      <td>1</td>\n",
       "    </tr>\n",
       "    <tr>\n",
       "      <th>2</th>\n",
       "      <td>34.7</td>\n",
       "      <td>37.07</td>\n",
       "      <td>0.469</td>\n",
       "      <td>7.185</td>\n",
       "      <td>61.1</td>\n",
       "      <td>5.03</td>\n",
       "      <td>22.2</td>\n",
       "      <td>4.03</td>\n",
       "      <td>NO</td>\n",
       "      <td>7.394</td>\n",
       "      <td>101.1200</td>\n",
       "      <td>NaN</td>\n",
       "      <td>38</td>\n",
       "      <td>YES</td>\n",
       "      <td>0.045764</td>\n",
       "      <td>0</td>\n",
       "    </tr>\n",
       "    <tr>\n",
       "      <th>3</th>\n",
       "      <td>33.4</td>\n",
       "      <td>32.18</td>\n",
       "      <td>0.458</td>\n",
       "      <td>6.998</td>\n",
       "      <td>45.8</td>\n",
       "      <td>6.21</td>\n",
       "      <td>21.3</td>\n",
       "      <td>2.94</td>\n",
       "      <td>YES</td>\n",
       "      <td>9.268</td>\n",
       "      <td>11.2672</td>\n",
       "      <td>Lake</td>\n",
       "      <td>45</td>\n",
       "      <td>YES</td>\n",
       "      <td>0.047151</td>\n",
       "      <td>0</td>\n",
       "    </tr>\n",
       "    <tr>\n",
       "      <th>4</th>\n",
       "      <td>36.2</td>\n",
       "      <td>32.18</td>\n",
       "      <td>0.458</td>\n",
       "      <td>7.147</td>\n",
       "      <td>54.2</td>\n",
       "      <td>6.16</td>\n",
       "      <td>21.3</td>\n",
       "      <td>5.33</td>\n",
       "      <td>NO</td>\n",
       "      <td>8.824</td>\n",
       "      <td>11.2896</td>\n",
       "      <td>Lake</td>\n",
       "      <td>55</td>\n",
       "      <td>YES</td>\n",
       "      <td>0.039474</td>\n",
       "      <td>0</td>\n",
       "    </tr>\n",
       "  </tbody>\n",
       "</table>\n",
       "</div>"
      ],
      "text/plain": [
       "   price  resid_area  air_qual  room_num   age  distance  teachers  poor_prop  \\\n",
       "0   24.0       32.31     0.538     6.575  65.2      4.35      24.7       4.98   \n",
       "1   21.6       37.07     0.469     6.421  78.9      4.99      22.2       9.14   \n",
       "2   34.7       37.07     0.469     7.185  61.1      5.03      22.2       4.03   \n",
       "3   33.4       32.18     0.458     6.998  45.8      6.21      21.3       2.94   \n",
       "4   36.2       32.18     0.458     7.147  54.2      6.16      21.3       5.33   \n",
       "\n",
       "  airport  n_hos_beds  n_hot_rooms waterbody  rainfall bus_ter     parks  Sold  \n",
       "0     YES       5.480      11.1920     River        23     YES  0.049347     0  \n",
       "1      NO       7.332      12.1728      Lake        42     YES  0.046146     1  \n",
       "2      NO       7.394     101.1200       NaN        38     YES  0.045764     0  \n",
       "3     YES       9.268      11.2672      Lake        45     YES  0.047151     0  \n",
       "4      NO       8.824      11.2896      Lake        55     YES  0.039474     0  "
      ]
     },
     "execution_count": 107,
     "metadata": {},
     "output_type": "execute_result"
    }
   ],
   "source": [
    "# Load the data and name it as df_house_price\n",
    "df_house_price = pd.read_csv('house_price.csv')\n",
    "\n",
    "#display the first five observations using head()\n",
    "df_house_price.head()"
   ]
  },
  {
   "cell_type": "markdown",
   "metadata": {},
   "source": [
    "## Data Overview "
   ]
  },
  {
   "cell_type": "code",
   "execution_count": 108,
   "metadata": {},
   "outputs": [
    {
     "data": {
      "text/plain": [
       "Index(['price', 'resid_area', 'air_qual', 'room_num', 'age', 'distance',\n",
       "       'teachers', 'poor_prop', 'airport', 'n_hos_beds', 'n_hot_rooms',\n",
       "       'waterbody', 'rainfall', 'bus_ter', 'parks', 'Sold'],\n",
       "      dtype='object')"
      ]
     },
     "execution_count": 108,
     "metadata": {},
     "output_type": "execute_result"
    }
   ],
   "source": [
    "# Name the Coloumns\n",
    "df_house_price.columns"
   ]
  },
  {
   "cell_type": "markdown",
   "metadata": {},
   "source": [
    "**Interpretation**\n",
    "\n",
    "- `price` : Price of the House. \n",
    "- `resid_area` : Resedential Area where my house is located\n",
    "- `air_qual` : Air Quality near the house\n",
    "- ``\n",
    "- ``\n",
    "  "
   ]
  },
  {
   "cell_type": "code",
   "execution_count": 109,
   "metadata": {},
   "outputs": [
    {
     "name": "stdout",
     "output_type": "stream",
     "text": [
      "<class 'pandas.core.frame.DataFrame'>\n",
      "RangeIndex: 506 entries, 0 to 505\n",
      "Data columns (total 16 columns):\n",
      " #   Column       Non-Null Count  Dtype  \n",
      "---  ------       --------------  -----  \n",
      " 0   price        506 non-null    float64\n",
      " 1   resid_area   506 non-null    float64\n",
      " 2   air_qual     506 non-null    float64\n",
      " 3   room_num     506 non-null    float64\n",
      " 4   age          506 non-null    float64\n",
      " 5   distance     506 non-null    float64\n",
      " 6   teachers     506 non-null    float64\n",
      " 7   poor_prop    506 non-null    float64\n",
      " 8   airport      506 non-null    object \n",
      " 9   n_hos_beds   498 non-null    float64\n",
      " 10  n_hot_rooms  506 non-null    float64\n",
      " 11  waterbody    351 non-null    object \n",
      " 12  rainfall     506 non-null    int64  \n",
      " 13  bus_ter      506 non-null    object \n",
      " 14  parks        506 non-null    float64\n",
      " 15  Sold         506 non-null    int64  \n",
      "dtypes: float64(11), int64(2), object(3)\n",
      "memory usage: 63.4+ KB\n"
     ]
    }
   ],
   "source": [
    "# Basic Info of the Dataset\n",
    "df_house_price.info()"
   ]
  },
  {
   "cell_type": "markdown",
   "metadata": {},
   "source": [
    "**Interpretation**\n",
    " - We have 13 Numerical columns & 3 Categorical Columns\n",
    " - We have null values in the data\n",
    " - We have total 16 columns in the data\n",
    "  "
   ]
  },
  {
   "cell_type": "code",
   "execution_count": 110,
   "metadata": {},
   "outputs": [
    {
     "data": {
      "text/plain": [
       "(506, 16)"
      ]
     },
     "execution_count": 110,
     "metadata": {},
     "output_type": "execute_result"
    }
   ],
   "source": [
    "# Shape of the data\n",
    "df_house_price.shape"
   ]
  },
  {
   "cell_type": "markdown",
   "metadata": {},
   "source": [
    "**Interpretations** \n",
    "- We have total 16 columns \n",
    "- We have 506 Observations"
   ]
  },
  {
   "cell_type": "markdown",
   "metadata": {},
   "source": [
    "**Interpretation**\n",
    " - We have outliers in the data , most of the outliers are in age coloumn"
   ]
  },
  {
   "cell_type": "markdown",
   "metadata": {},
   "source": [
    "## Data Preprocessing"
   ]
  },
  {
   "cell_type": "markdown",
   "metadata": {},
   "source": [
    "### A . Data Cleaning"
   ]
  },
  {
   "cell_type": "code",
   "execution_count": 112,
   "metadata": {},
   "outputs": [
    {
     "data": {
      "text/html": [
       "<div>\n",
       "<style scoped>\n",
       "    .dataframe tbody tr th:only-of-type {\n",
       "        vertical-align: middle;\n",
       "    }\n",
       "\n",
       "    .dataframe tbody tr th {\n",
       "        vertical-align: top;\n",
       "    }\n",
       "\n",
       "    .dataframe thead th {\n",
       "        text-align: right;\n",
       "    }\n",
       "</style>\n",
       "<table border=\"1\" class=\"dataframe\">\n",
       "  <thead>\n",
       "    <tr style=\"text-align: right;\">\n",
       "      <th></th>\n",
       "      <th>price</th>\n",
       "      <th>resid_area</th>\n",
       "      <th>air_qual</th>\n",
       "      <th>room_num</th>\n",
       "      <th>age</th>\n",
       "      <th>distance</th>\n",
       "      <th>teachers</th>\n",
       "      <th>poor_prop</th>\n",
       "      <th>airport</th>\n",
       "      <th>n_hos_beds</th>\n",
       "      <th>n_hot_rooms</th>\n",
       "      <th>waterbody</th>\n",
       "      <th>rainfall</th>\n",
       "      <th>bus_ter</th>\n",
       "      <th>parks</th>\n",
       "      <th>Sold</th>\n",
       "    </tr>\n",
       "  </thead>\n",
       "  <tbody>\n",
       "    <tr>\n",
       "      <th>0</th>\n",
       "      <td>24.0</td>\n",
       "      <td>32.31</td>\n",
       "      <td>0.538</td>\n",
       "      <td>6.575</td>\n",
       "      <td>65.2</td>\n",
       "      <td>4.35</td>\n",
       "      <td>24.7</td>\n",
       "      <td>4.98</td>\n",
       "      <td>YES</td>\n",
       "      <td>5.480</td>\n",
       "      <td>11.1920</td>\n",
       "      <td>River</td>\n",
       "      <td>23</td>\n",
       "      <td>YES</td>\n",
       "      <td>0.049347</td>\n",
       "      <td>0</td>\n",
       "    </tr>\n",
       "    <tr>\n",
       "      <th>1</th>\n",
       "      <td>21.6</td>\n",
       "      <td>37.07</td>\n",
       "      <td>0.469</td>\n",
       "      <td>6.421</td>\n",
       "      <td>78.9</td>\n",
       "      <td>4.99</td>\n",
       "      <td>22.2</td>\n",
       "      <td>9.14</td>\n",
       "      <td>NO</td>\n",
       "      <td>7.332</td>\n",
       "      <td>12.1728</td>\n",
       "      <td>Lake</td>\n",
       "      <td>42</td>\n",
       "      <td>YES</td>\n",
       "      <td>0.046146</td>\n",
       "      <td>1</td>\n",
       "    </tr>\n",
       "    <tr>\n",
       "      <th>2</th>\n",
       "      <td>34.7</td>\n",
       "      <td>37.07</td>\n",
       "      <td>0.469</td>\n",
       "      <td>7.185</td>\n",
       "      <td>61.1</td>\n",
       "      <td>5.03</td>\n",
       "      <td>22.2</td>\n",
       "      <td>4.03</td>\n",
       "      <td>NO</td>\n",
       "      <td>7.394</td>\n",
       "      <td>101.1200</td>\n",
       "      <td>NaN</td>\n",
       "      <td>38</td>\n",
       "      <td>YES</td>\n",
       "      <td>0.045764</td>\n",
       "      <td>0</td>\n",
       "    </tr>\n",
       "    <tr>\n",
       "      <th>3</th>\n",
       "      <td>33.4</td>\n",
       "      <td>32.18</td>\n",
       "      <td>0.458</td>\n",
       "      <td>6.998</td>\n",
       "      <td>45.8</td>\n",
       "      <td>6.21</td>\n",
       "      <td>21.3</td>\n",
       "      <td>2.94</td>\n",
       "      <td>YES</td>\n",
       "      <td>9.268</td>\n",
       "      <td>11.2672</td>\n",
       "      <td>Lake</td>\n",
       "      <td>45</td>\n",
       "      <td>YES</td>\n",
       "      <td>0.047151</td>\n",
       "      <td>0</td>\n",
       "    </tr>\n",
       "    <tr>\n",
       "      <th>4</th>\n",
       "      <td>36.2</td>\n",
       "      <td>32.18</td>\n",
       "      <td>0.458</td>\n",
       "      <td>7.147</td>\n",
       "      <td>54.2</td>\n",
       "      <td>6.16</td>\n",
       "      <td>21.3</td>\n",
       "      <td>5.33</td>\n",
       "      <td>NO</td>\n",
       "      <td>8.824</td>\n",
       "      <td>11.2896</td>\n",
       "      <td>Lake</td>\n",
       "      <td>55</td>\n",
       "      <td>YES</td>\n",
       "      <td>0.039474</td>\n",
       "      <td>0</td>\n",
       "    </tr>\n",
       "  </tbody>\n",
       "</table>\n",
       "</div>"
      ],
      "text/plain": [
       "   price  resid_area  air_qual  room_num   age  distance  teachers  poor_prop  \\\n",
       "0   24.0       32.31     0.538     6.575  65.2      4.35      24.7       4.98   \n",
       "1   21.6       37.07     0.469     6.421  78.9      4.99      22.2       9.14   \n",
       "2   34.7       37.07     0.469     7.185  61.1      5.03      22.2       4.03   \n",
       "3   33.4       32.18     0.458     6.998  45.8      6.21      21.3       2.94   \n",
       "4   36.2       32.18     0.458     7.147  54.2      6.16      21.3       5.33   \n",
       "\n",
       "  airport  n_hos_beds  n_hot_rooms waterbody  rainfall bus_ter     parks  Sold  \n",
       "0     YES       5.480      11.1920     River        23     YES  0.049347     0  \n",
       "1      NO       7.332      12.1728      Lake        42     YES  0.046146     1  \n",
       "2      NO       7.394     101.1200       NaN        38     YES  0.045764     0  \n",
       "3     YES       9.268      11.2672      Lake        45     YES  0.047151     0  \n",
       "4      NO       8.824      11.2896      Lake        55     YES  0.039474     0  "
      ]
     },
     "execution_count": 112,
     "metadata": {},
     "output_type": "execute_result"
    }
   ],
   "source": [
    "# Show the First 5 Observations\n",
    "df_house_price.head()"
   ]
  },
  {
   "cell_type": "code",
   "execution_count": 113,
   "metadata": {},
   "outputs": [
    {
     "data": {
      "text/plain": [
       "Index(['price', 'resid_area', 'air_qual', 'room_num', 'age', 'distance',\n",
       "       'teachers', 'poor_prop', 'airport', 'n_hos_beds', 'n_hot_rooms',\n",
       "       'waterbody', 'rainfall', 'bus_ter', 'parks', 'Sold'],\n",
       "      dtype='object')"
      ]
     },
     "execution_count": 113,
     "metadata": {},
     "output_type": "execute_result"
    }
   ],
   "source": [
    "# Rename the Columns\n",
    "# Step 1 : Show the Column Names\n",
    "df_house_price.columns"
   ]
  },
  {
   "cell_type": "code",
   "execution_count": 114,
   "metadata": {},
   "outputs": [],
   "source": [
    "# Step 2 : Allocate ew column names to Old Column Names\n",
    "# Make the Dictionary {'Old Column Name' : 'New Column Name'}\n",
    "d1 = {'price' : 'Price',\n",
    "      'resid_area' : 'Residential Area',\n",
    "      'air_qual' : 'Air Quality',\n",
    "      'room_num' : 'Room Numbers',\n",
    "      'age' : 'Age',\n",
    "      'distance' : 'Distance',\n",
    "      'teachers' : 'Teachers',\n",
    "      'poor_prop' : 'Proportion of Poor Population',\n",
    "      'airport' : 'Airport',\n",
    "      'n_hos_beds' : 'Number of Hospital Beds',\n",
    "      'n_hot_rooms' : 'Number of Hotel Rooms',\n",
    "      'waterbody' : 'Waterbody',\n",
    "      'rainfall' : 'Rainfall',\n",
    "      'bus_ter' : 'Bus Terminal',\n",
    "      'parks' : 'Parks',\n",
    "      'Sold' : 'Sold'}\n"
   ]
  },
  {
   "cell_type": "code",
   "execution_count": 115,
   "metadata": {},
   "outputs": [],
   "source": [
    "df_house_price = df_house_price.rename(columns = d1)"
   ]
  },
  {
   "cell_type": "code",
   "execution_count": 116,
   "metadata": {},
   "outputs": [
    {
     "data": {
      "text/plain": [
       "Index(['Price', 'Residential Area', 'Air Quality', 'Room Numbers', 'Age',\n",
       "       'Distance', 'Teachers', 'Proportion of Poor Population', 'Airport',\n",
       "       'Number of Hospital Beds', 'Number of Hotel Rooms', 'Waterbody',\n",
       "       'Rainfall', 'Bus Terminal', 'Parks', 'Sold'],\n",
       "      dtype='object')"
      ]
     },
     "execution_count": 116,
     "metadata": {},
     "output_type": "execute_result"
    }
   ],
   "source": [
    "# Authenticate the Results\n",
    "df_house_price.columns"
   ]
  },
  {
   "cell_type": "markdown",
   "metadata": {},
   "source": [
    "### B. Null Value Handling"
   ]
  },
  {
   "cell_type": "markdown",
   "metadata": {},
   "source": [
    "```\n",
    "Laws that we need to follow while processing the null values (Specially for Manufacturing)\n",
    " - When we have less than 15% data missing -> Remove the observation\n",
    " - Between 20% to 70% data missing -> Impute the null values\n",
    " - Greater than 75% Values missing -> Remove the Column\n",
    "```"
   ]
  },
  {
   "cell_type": "code",
   "execution_count": 117,
   "metadata": {},
   "outputs": [
    {
     "data": {
      "text/plain": [
       "Price                              0\n",
       "Residential Area                   0\n",
       "Air Quality                        0\n",
       "Room Numbers                       0\n",
       "Age                                0\n",
       "Distance                           0\n",
       "Teachers                           0\n",
       "Proportion of Poor Population      0\n",
       "Airport                            0\n",
       "Number of Hospital Beds            8\n",
       "Number of Hotel Rooms              0\n",
       "Waterbody                        155\n",
       "Rainfall                           0\n",
       "Bus Terminal                       0\n",
       "Parks                              0\n",
       "Sold                               0\n",
       "dtype: int64"
      ]
     },
     "execution_count": 117,
     "metadata": {},
     "output_type": "execute_result"
    }
   ],
   "source": [
    "# Find the Valid Null Values\n",
    "df_house_price.isnull().sum()"
   ]
  },
  {
   "cell_type": "code",
   "execution_count": 118,
   "metadata": {},
   "outputs": [
    {
     "data": {
      "text/plain": [
       "(Price                             0.0\n",
       " Residential Area                  0.0\n",
       " Air Quality                       0.0\n",
       " Room Numbers                      0.0\n",
       " Age                               0.0\n",
       " Distance                          0.0\n",
       " Teachers                          0.0\n",
       " Proportion of Poor Population     0.0\n",
       " Airport                           0.0\n",
       " Number of Hospital Beds           2.0\n",
       " Number of Hotel Rooms             0.0\n",
       " Waterbody                        31.0\n",
       " Rainfall                          0.0\n",
       " Bus Terminal                      0.0\n",
       " Parks                             0.0\n",
       " Sold                              0.0\n",
       " dtype: float64,\n",
       " 3)"
      ]
     },
     "execution_count": 118,
     "metadata": {},
     "output_type": "execute_result"
    }
   ],
   "source": [
    "# Percentage of Missing Values\n",
    "round(df_house_price.isnull().sum() / df_house_price.shape[0] * 100),3"
   ]
  },
  {
   "cell_type": "code",
   "execution_count": 119,
   "metadata": {},
   "outputs": [
    {
     "name": "stdout",
     "output_type": "stream",
     "text": [
      "<class 'pandas.core.frame.DataFrame'>\n",
      "RangeIndex: 506 entries, 0 to 505\n",
      "Data columns (total 16 columns):\n",
      " #   Column                         Non-Null Count  Dtype  \n",
      "---  ------                         --------------  -----  \n",
      " 0   Price                          506 non-null    float64\n",
      " 1   Residential Area               506 non-null    float64\n",
      " 2   Air Quality                    506 non-null    float64\n",
      " 3   Room Numbers                   506 non-null    float64\n",
      " 4   Age                            506 non-null    float64\n",
      " 5   Distance                       506 non-null    float64\n",
      " 6   Teachers                       506 non-null    float64\n",
      " 7   Proportion of Poor Population  506 non-null    float64\n",
      " 8   Airport                        506 non-null    object \n",
      " 9   Number of Hospital Beds        498 non-null    float64\n",
      " 10  Number of Hotel Rooms          506 non-null    float64\n",
      " 11  Waterbody                      351 non-null    object \n",
      " 12  Rainfall                       506 non-null    int64  \n",
      " 13  Bus Terminal                   506 non-null    object \n",
      " 14  Parks                          506 non-null    float64\n",
      " 15  Sold                           506 non-null    int64  \n",
      "dtypes: float64(11), int64(2), object(3)\n",
      "memory usage: 63.4+ KB\n"
     ]
    }
   ],
   "source": [
    "# Find the Nature of the Column \n",
    "df_house_price.info()"
   ]
  },
  {
   "cell_type": "code",
   "execution_count": 120,
   "metadata": {},
   "outputs": [
    {
     "data": {
      "text/plain": [
       "0    River\n",
       "Name: Waterbody, dtype: object"
      ]
     },
     "execution_count": 120,
     "metadata": {},
     "output_type": "execute_result"
    }
   ],
   "source": [
    "# This is a Categorical Column so we can replace the null with the mode\n",
    "df_house_price.Waterbody.mode()\n"
   ]
  },
  {
   "cell_type": "code",
   "execution_count": 121,
   "metadata": {},
   "outputs": [],
   "source": [
    "# Replace the Null Values\n",
    "df_house_price.Waterbody =  df_house_price.Waterbody.fillna('River')"
   ]
  },
  {
   "cell_type": "code",
   "execution_count": 122,
   "metadata": {},
   "outputs": [
    {
     "data": {
      "text/plain": [
       "(Price                            0.0\n",
       " Residential Area                 0.0\n",
       " Air Quality                      0.0\n",
       " Room Numbers                     0.0\n",
       " Age                              0.0\n",
       " Distance                         0.0\n",
       " Teachers                         0.0\n",
       " Proportion of Poor Population    0.0\n",
       " Airport                          0.0\n",
       " Number of Hospital Beds          2.0\n",
       " Number of Hotel Rooms            0.0\n",
       " Waterbody                        0.0\n",
       " Rainfall                         0.0\n",
       " Bus Terminal                     0.0\n",
       " Parks                            0.0\n",
       " Sold                             0.0\n",
       " dtype: float64,\n",
       " 3)"
      ]
     },
     "execution_count": 122,
     "metadata": {},
     "output_type": "execute_result"
    }
   ],
   "source": [
    "round(df_house_price.isnull().sum() / df_house_price.shape[0] * 100),3"
   ]
  },
  {
   "cell_type": "code",
   "execution_count": 123,
   "metadata": {},
   "outputs": [],
   "source": [
    "# In the Column 'Number of Hospital Beds' so we can drop the null values\n",
    "df_house_price.dropna(inplace=True)"
   ]
  },
  {
   "cell_type": "code",
   "execution_count": 124,
   "metadata": {},
   "outputs": [
    {
     "data": {
      "text/plain": [
       "(Price                            0.0\n",
       " Residential Area                 0.0\n",
       " Air Quality                      0.0\n",
       " Room Numbers                     0.0\n",
       " Age                              0.0\n",
       " Distance                         0.0\n",
       " Teachers                         0.0\n",
       " Proportion of Poor Population    0.0\n",
       " Airport                          0.0\n",
       " Number of Hospital Beds          0.0\n",
       " Number of Hotel Rooms            0.0\n",
       " Waterbody                        0.0\n",
       " Rainfall                         0.0\n",
       " Bus Terminal                     0.0\n",
       " Parks                            0.0\n",
       " Sold                             0.0\n",
       " dtype: float64,\n",
       " 3)"
      ]
     },
     "execution_count": 124,
     "metadata": {},
     "output_type": "execute_result"
    }
   ],
   "source": [
    "round(df_house_price.isnull().sum() / df_house_price.shape[0] * 100),3"
   ]
  },
  {
   "cell_type": "code",
   "execution_count": 125,
   "metadata": {},
   "outputs": [
    {
     "data": {
      "text/plain": [
       "Index(['Airport', 'Waterbody', 'Bus Terminal'], dtype='object')"
      ]
     },
     "execution_count": 125,
     "metadata": {},
     "output_type": "execute_result"
    }
   ],
   "source": [
    "## Prepare Data for Machine Learning \n",
    "# We Know that the Machine Learning Algorithms are Mathematical Expressions so we need to provide the data to the algorithm in specific format\n",
    "# Encoding \n",
    "\n",
    "# Step 1 Divide the data based on thier data type \n",
    "df_cat = df_house_price.select_dtypes(include = ['object'])\n",
    "\n",
    "\n",
    "df_cat.columns"
   ]
  },
  {
   "cell_type": "code",
   "execution_count": 126,
   "metadata": {},
   "outputs": [],
   "source": [
    "# Use Dummy Encoding\n",
    "dummy_var = pd.get_dummies(data = df_cat, drop_first = True)\n",
    "dummy_var = dummy_var.reset_index()"
   ]
  },
  {
   "cell_type": "code",
   "execution_count": 127,
   "metadata": {},
   "outputs": [],
   "source": [
    "dummy_var2 = pd.get_dummies(df_cat) "
   ]
  },
  {
   "cell_type": "code",
   "execution_count": 128,
   "metadata": {},
   "outputs": [
    {
     "data": {
      "text/html": [
       "<div>\n",
       "<style scoped>\n",
       "    .dataframe tbody tr th:only-of-type {\n",
       "        vertical-align: middle;\n",
       "    }\n",
       "\n",
       "    .dataframe tbody tr th {\n",
       "        vertical-align: top;\n",
       "    }\n",
       "\n",
       "    .dataframe thead th {\n",
       "        text-align: right;\n",
       "    }\n",
       "</style>\n",
       "<table border=\"1\" class=\"dataframe\">\n",
       "  <thead>\n",
       "    <tr style=\"text-align: right;\">\n",
       "      <th></th>\n",
       "      <th>Airport_NO</th>\n",
       "      <th>Airport_YES</th>\n",
       "      <th>Waterbody_Lake</th>\n",
       "      <th>Waterbody_Lake and River</th>\n",
       "      <th>Waterbody_River</th>\n",
       "      <th>Bus Terminal_YES</th>\n",
       "    </tr>\n",
       "  </thead>\n",
       "  <tbody>\n",
       "    <tr>\n",
       "      <th>0</th>\n",
       "      <td>False</td>\n",
       "      <td>True</td>\n",
       "      <td>False</td>\n",
       "      <td>False</td>\n",
       "      <td>True</td>\n",
       "      <td>True</td>\n",
       "    </tr>\n",
       "    <tr>\n",
       "      <th>1</th>\n",
       "      <td>True</td>\n",
       "      <td>False</td>\n",
       "      <td>True</td>\n",
       "      <td>False</td>\n",
       "      <td>False</td>\n",
       "      <td>True</td>\n",
       "    </tr>\n",
       "  </tbody>\n",
       "</table>\n",
       "</div>"
      ],
      "text/plain": [
       "   Airport_NO  Airport_YES  Waterbody_Lake  Waterbody_Lake and River  \\\n",
       "0       False         True           False                     False   \n",
       "1        True        False            True                     False   \n",
       "\n",
       "   Waterbody_River  Bus Terminal_YES  \n",
       "0             True              True  \n",
       "1            False              True  "
      ]
     },
     "execution_count": 128,
     "metadata": {},
     "output_type": "execute_result"
    }
   ],
   "source": [
    "dummy_var2.head(2)"
   ]
  },
  {
   "cell_type": "code",
   "execution_count": 129,
   "metadata": {},
   "outputs": [
    {
     "data": {
      "text/html": [
       "<div>\n",
       "<style scoped>\n",
       "    .dataframe tbody tr th:only-of-type {\n",
       "        vertical-align: middle;\n",
       "    }\n",
       "\n",
       "    .dataframe tbody tr th {\n",
       "        vertical-align: top;\n",
       "    }\n",
       "\n",
       "    .dataframe thead th {\n",
       "        text-align: right;\n",
       "    }\n",
       "</style>\n",
       "<table border=\"1\" class=\"dataframe\">\n",
       "  <thead>\n",
       "    <tr style=\"text-align: right;\">\n",
       "      <th></th>\n",
       "      <th>Price</th>\n",
       "      <th>Residential Area</th>\n",
       "      <th>Air Quality</th>\n",
       "      <th>Room Numbers</th>\n",
       "      <th>Age</th>\n",
       "      <th>Distance</th>\n",
       "      <th>Teachers</th>\n",
       "      <th>Proportion of Poor Population</th>\n",
       "      <th>Number of Hospital Beds</th>\n",
       "      <th>Number of Hotel Rooms</th>\n",
       "      <th>Rainfall</th>\n",
       "      <th>Parks</th>\n",
       "      <th>Sold</th>\n",
       "    </tr>\n",
       "  </thead>\n",
       "  <tbody>\n",
       "    <tr>\n",
       "      <th>0</th>\n",
       "      <td>24.0</td>\n",
       "      <td>32.31</td>\n",
       "      <td>0.538</td>\n",
       "      <td>6.575</td>\n",
       "      <td>65.2</td>\n",
       "      <td>4.35</td>\n",
       "      <td>24.7</td>\n",
       "      <td>4.98</td>\n",
       "      <td>5.480</td>\n",
       "      <td>11.1920</td>\n",
       "      <td>23</td>\n",
       "      <td>0.049347</td>\n",
       "      <td>0</td>\n",
       "    </tr>\n",
       "    <tr>\n",
       "      <th>1</th>\n",
       "      <td>21.6</td>\n",
       "      <td>37.07</td>\n",
       "      <td>0.469</td>\n",
       "      <td>6.421</td>\n",
       "      <td>78.9</td>\n",
       "      <td>4.99</td>\n",
       "      <td>22.2</td>\n",
       "      <td>9.14</td>\n",
       "      <td>7.332</td>\n",
       "      <td>12.1728</td>\n",
       "      <td>42</td>\n",
       "      <td>0.046146</td>\n",
       "      <td>1</td>\n",
       "    </tr>\n",
       "    <tr>\n",
       "      <th>2</th>\n",
       "      <td>34.7</td>\n",
       "      <td>37.07</td>\n",
       "      <td>0.469</td>\n",
       "      <td>7.185</td>\n",
       "      <td>61.1</td>\n",
       "      <td>5.03</td>\n",
       "      <td>22.2</td>\n",
       "      <td>4.03</td>\n",
       "      <td>7.394</td>\n",
       "      <td>101.1200</td>\n",
       "      <td>38</td>\n",
       "      <td>0.045764</td>\n",
       "      <td>0</td>\n",
       "    </tr>\n",
       "    <tr>\n",
       "      <th>3</th>\n",
       "      <td>33.4</td>\n",
       "      <td>32.18</td>\n",
       "      <td>0.458</td>\n",
       "      <td>6.998</td>\n",
       "      <td>45.8</td>\n",
       "      <td>6.21</td>\n",
       "      <td>21.3</td>\n",
       "      <td>2.94</td>\n",
       "      <td>9.268</td>\n",
       "      <td>11.2672</td>\n",
       "      <td>45</td>\n",
       "      <td>0.047151</td>\n",
       "      <td>0</td>\n",
       "    </tr>\n",
       "    <tr>\n",
       "      <th>4</th>\n",
       "      <td>36.2</td>\n",
       "      <td>32.18</td>\n",
       "      <td>0.458</td>\n",
       "      <td>7.147</td>\n",
       "      <td>54.2</td>\n",
       "      <td>6.16</td>\n",
       "      <td>21.3</td>\n",
       "      <td>5.33</td>\n",
       "      <td>8.824</td>\n",
       "      <td>11.2896</td>\n",
       "      <td>55</td>\n",
       "      <td>0.039474</td>\n",
       "      <td>0</td>\n",
       "    </tr>\n",
       "  </tbody>\n",
       "</table>\n",
       "</div>"
      ],
      "text/plain": [
       "   Price  Residential Area  Air Quality  Room Numbers   Age  Distance  \\\n",
       "0   24.0             32.31        0.538         6.575  65.2      4.35   \n",
       "1   21.6             37.07        0.469         6.421  78.9      4.99   \n",
       "2   34.7             37.07        0.469         7.185  61.1      5.03   \n",
       "3   33.4             32.18        0.458         6.998  45.8      6.21   \n",
       "4   36.2             32.18        0.458         7.147  54.2      6.16   \n",
       "\n",
       "   Teachers  Proportion of Poor Population  Number of Hospital Beds  \\\n",
       "0      24.7                           4.98                    5.480   \n",
       "1      22.2                           9.14                    7.332   \n",
       "2      22.2                           4.03                    7.394   \n",
       "3      21.3                           2.94                    9.268   \n",
       "4      21.3                           5.33                    8.824   \n",
       "\n",
       "   Number of Hotel Rooms  Rainfall     Parks  Sold  \n",
       "0                11.1920        23  0.049347     0  \n",
       "1                12.1728        42  0.046146     1  \n",
       "2               101.1200        38  0.045764     0  \n",
       "3                11.2672        45  0.047151     0  \n",
       "4                11.2896        55  0.039474     0  "
      ]
     },
     "execution_count": 129,
     "metadata": {},
     "output_type": "execute_result"
    }
   ],
   "source": [
    "df_num = df_house_price.select_dtypes(include = [np.number]) \n",
    "df_num.head()"
   ]
  },
  {
   "cell_type": "code",
   "execution_count": 130,
   "metadata": {},
   "outputs": [],
   "source": [
    "from sklearn.preprocessing import StandardScaler\n"
   ]
  },
  {
   "cell_type": "code",
   "execution_count": 131,
   "metadata": {},
   "outputs": [],
   "source": [
    "df_target = df_house_price['Price']\n",
    "df_num = df_num.drop('Price',axis = 1)"
   ]
  },
  {
   "cell_type": "code",
   "execution_count": 132,
   "metadata": {},
   "outputs": [],
   "source": [
    "# Initiate the StandardScaler \n",
    "ss = StandardScaler()"
   ]
  },
  {
   "cell_type": "code",
   "execution_count": 133,
   "metadata": {},
   "outputs": [
    {
     "data": {
      "text/plain": [
       "array([[-1.28244435, -0.13709359,  0.40897478, ..., -1.30206786,\n",
       "        -0.47313205, -0.91152748],\n",
       "       [-0.59005882, -0.73319492,  0.18997385, ...,  0.21519397,\n",
       "        -0.77522463,  1.09705963],\n",
       "       [-0.59005882, -0.73319492,  1.276446  , ..., -0.10422957,\n",
       "        -0.81123666, -0.91152748],\n",
       "       ...,\n",
       "       [ 0.11687263,  0.16527665,  0.97923045, ..., -0.66322077,\n",
       "         0.30293265,  1.09705963],\n",
       "       [ 0.11687263,  0.16527665,  0.72041117, ...,  0.6144734 ,\n",
       "         0.59750894,  1.09705963],\n",
       "       [ 0.11687263,  0.16527665, -0.36606097, ...,  0.45476163,\n",
       "         0.56369225,  1.09705963]])"
      ]
     },
     "execution_count": 133,
     "metadata": {},
     "output_type": "execute_result"
    }
   ],
   "source": [
    "# Transform the data\n",
    "Scale = ss.fit_transform(df_num)\n",
    "Scale"
   ]
  },
  {
   "cell_type": "code",
   "execution_count": 134,
   "metadata": {},
   "outputs": [
    {
     "data": {
      "text/html": [
       "<div>\n",
       "<style scoped>\n",
       "    .dataframe tbody tr th:only-of-type {\n",
       "        vertical-align: middle;\n",
       "    }\n",
       "\n",
       "    .dataframe tbody tr th {\n",
       "        vertical-align: top;\n",
       "    }\n",
       "\n",
       "    .dataframe thead th {\n",
       "        text-align: right;\n",
       "    }\n",
       "</style>\n",
       "<table border=\"1\" class=\"dataframe\">\n",
       "  <thead>\n",
       "    <tr style=\"text-align: right;\">\n",
       "      <th></th>\n",
       "      <th>index</th>\n",
       "      <th>Residential Area</th>\n",
       "      <th>Air Quality</th>\n",
       "      <th>Room Numbers</th>\n",
       "      <th>Age</th>\n",
       "      <th>Distance</th>\n",
       "      <th>Teachers</th>\n",
       "      <th>Proportion of Poor Population</th>\n",
       "      <th>Number of Hospital Beds</th>\n",
       "      <th>Number of Hotel Rooms</th>\n",
       "      <th>Rainfall</th>\n",
       "      <th>Parks</th>\n",
       "      <th>Sold</th>\n",
       "    </tr>\n",
       "  </thead>\n",
       "  <tbody>\n",
       "    <tr>\n",
       "      <th>0</th>\n",
       "      <td>0</td>\n",
       "      <td>-1.282444</td>\n",
       "      <td>-0.137094</td>\n",
       "      <td>0.408975</td>\n",
       "      <td>-0.115644</td>\n",
       "      <td>0.172845</td>\n",
       "      <td>1.462167</td>\n",
       "      <td>-1.066368</td>\n",
       "      <td>-1.640299</td>\n",
       "      <td>-0.352111</td>\n",
       "      <td>-1.302068</td>\n",
       "      <td>-0.473132</td>\n",
       "      <td>-0.911527</td>\n",
       "    </tr>\n",
       "    <tr>\n",
       "      <th>1</th>\n",
       "      <td>1</td>\n",
       "      <td>-0.590059</td>\n",
       "      <td>-0.733195</td>\n",
       "      <td>0.189974</td>\n",
       "      <td>0.369741</td>\n",
       "      <td>0.476100</td>\n",
       "      <td>0.304963</td>\n",
       "      <td>-0.484136</td>\n",
       "      <td>-0.384875</td>\n",
       "      <td>-0.166019</td>\n",
       "      <td>0.215194</td>\n",
       "      <td>-0.775225</td>\n",
       "      <td>1.097060</td>\n",
       "    </tr>\n",
       "    <tr>\n",
       "      <th>2</th>\n",
       "      <td>2</td>\n",
       "      <td>-0.590059</td>\n",
       "      <td>-0.733195</td>\n",
       "      <td>1.276446</td>\n",
       "      <td>-0.260905</td>\n",
       "      <td>0.495053</td>\n",
       "      <td>0.304963</td>\n",
       "      <td>-1.199330</td>\n",
       "      <td>-0.342847</td>\n",
       "      <td>16.710340</td>\n",
       "      <td>-0.104230</td>\n",
       "      <td>-0.811237</td>\n",
       "      <td>-0.911527</td>\n",
       "    </tr>\n",
       "    <tr>\n",
       "      <th>3</th>\n",
       "      <td>3</td>\n",
       "      <td>-1.301354</td>\n",
       "      <td>-0.828226</td>\n",
       "      <td>1.010516</td>\n",
       "      <td>-0.802977</td>\n",
       "      <td>1.054179</td>\n",
       "      <td>-0.111631</td>\n",
       "      <td>-1.351886</td>\n",
       "      <td>0.927490</td>\n",
       "      <td>-0.337843</td>\n",
       "      <td>0.454762</td>\n",
       "      <td>-0.680402</td>\n",
       "      <td>-0.911527</td>\n",
       "    </tr>\n",
       "    <tr>\n",
       "      <th>4</th>\n",
       "      <td>4</td>\n",
       "      <td>-1.301354</td>\n",
       "      <td>-0.828226</td>\n",
       "      <td>1.222407</td>\n",
       "      <td>-0.505369</td>\n",
       "      <td>1.030487</td>\n",
       "      <td>-0.111631</td>\n",
       "      <td>-1.017382</td>\n",
       "      <td>0.626514</td>\n",
       "      <td>-0.333593</td>\n",
       "      <td>1.253320</td>\n",
       "      <td>-1.404723</td>\n",
       "      <td>-0.911527</td>\n",
       "    </tr>\n",
       "  </tbody>\n",
       "</table>\n",
       "</div>"
      ],
      "text/plain": [
       "   index  Residential Area  Air Quality  Room Numbers       Age  Distance  \\\n",
       "0      0         -1.282444    -0.137094      0.408975 -0.115644  0.172845   \n",
       "1      1         -0.590059    -0.733195      0.189974  0.369741  0.476100   \n",
       "2      2         -0.590059    -0.733195      1.276446 -0.260905  0.495053   \n",
       "3      3         -1.301354    -0.828226      1.010516 -0.802977  1.054179   \n",
       "4      4         -1.301354    -0.828226      1.222407 -0.505369  1.030487   \n",
       "\n",
       "   Teachers  Proportion of Poor Population  Number of Hospital Beds  \\\n",
       "0  1.462167                      -1.066368                -1.640299   \n",
       "1  0.304963                      -0.484136                -0.384875   \n",
       "2  0.304963                      -1.199330                -0.342847   \n",
       "3 -0.111631                      -1.351886                 0.927490   \n",
       "4 -0.111631                      -1.017382                 0.626514   \n",
       "\n",
       "   Number of Hotel Rooms  Rainfall     Parks      Sold  \n",
       "0              -0.352111 -1.302068 -0.473132 -0.911527  \n",
       "1              -0.166019  0.215194 -0.775225  1.097060  \n",
       "2              16.710340 -0.104230 -0.811237 -0.911527  \n",
       "3              -0.337843  0.454762 -0.680402 -0.911527  \n",
       "4              -0.333593  1.253320 -1.404723 -0.911527  "
      ]
     },
     "execution_count": 134,
     "metadata": {},
     "output_type": "execute_result"
    }
   ],
   "source": [
    "df_scale = pd.DataFrame(Scale, columns = df_num.columns)\n",
    "df_scale = df_scale.reset_index()\n",
    "df_scale.head()"
   ]
  },
  {
   "cell_type": "code",
   "execution_count": 135,
   "metadata": {},
   "outputs": [
    {
     "data": {
      "text/html": [
       "<div>\n",
       "<style scoped>\n",
       "    .dataframe tbody tr th:only-of-type {\n",
       "        vertical-align: middle;\n",
       "    }\n",
       "\n",
       "    .dataframe tbody tr th {\n",
       "        vertical-align: top;\n",
       "    }\n",
       "\n",
       "    .dataframe thead th {\n",
       "        text-align: right;\n",
       "    }\n",
       "</style>\n",
       "<table border=\"1\" class=\"dataframe\">\n",
       "  <thead>\n",
       "    <tr style=\"text-align: right;\">\n",
       "      <th></th>\n",
       "      <th>index</th>\n",
       "      <th>Residential Area</th>\n",
       "      <th>Air Quality</th>\n",
       "      <th>Room Numbers</th>\n",
       "      <th>Age</th>\n",
       "      <th>Distance</th>\n",
       "      <th>Teachers</th>\n",
       "      <th>Proportion of Poor Population</th>\n",
       "      <th>Number of Hospital Beds</th>\n",
       "      <th>Number of Hotel Rooms</th>\n",
       "      <th>Rainfall</th>\n",
       "      <th>Parks</th>\n",
       "      <th>Sold</th>\n",
       "      <th>index</th>\n",
       "      <th>Airport_YES</th>\n",
       "      <th>Waterbody_Lake and River</th>\n",
       "      <th>Waterbody_River</th>\n",
       "    </tr>\n",
       "  </thead>\n",
       "  <tbody>\n",
       "    <tr>\n",
       "      <th>0</th>\n",
       "      <td>0</td>\n",
       "      <td>-1.282444</td>\n",
       "      <td>-0.137094</td>\n",
       "      <td>0.408975</td>\n",
       "      <td>-0.115644</td>\n",
       "      <td>0.172845</td>\n",
       "      <td>1.462167</td>\n",
       "      <td>-1.066368</td>\n",
       "      <td>-1.640299</td>\n",
       "      <td>-0.352111</td>\n",
       "      <td>-1.302068</td>\n",
       "      <td>-0.473132</td>\n",
       "      <td>-0.911527</td>\n",
       "      <td>0</td>\n",
       "      <td>True</td>\n",
       "      <td>False</td>\n",
       "      <td>True</td>\n",
       "    </tr>\n",
       "    <tr>\n",
       "      <th>1</th>\n",
       "      <td>1</td>\n",
       "      <td>-0.590059</td>\n",
       "      <td>-0.733195</td>\n",
       "      <td>0.189974</td>\n",
       "      <td>0.369741</td>\n",
       "      <td>0.476100</td>\n",
       "      <td>0.304963</td>\n",
       "      <td>-0.484136</td>\n",
       "      <td>-0.384875</td>\n",
       "      <td>-0.166019</td>\n",
       "      <td>0.215194</td>\n",
       "      <td>-0.775225</td>\n",
       "      <td>1.097060</td>\n",
       "      <td>1</td>\n",
       "      <td>False</td>\n",
       "      <td>False</td>\n",
       "      <td>False</td>\n",
       "    </tr>\n",
       "    <tr>\n",
       "      <th>2</th>\n",
       "      <td>2</td>\n",
       "      <td>-0.590059</td>\n",
       "      <td>-0.733195</td>\n",
       "      <td>1.276446</td>\n",
       "      <td>-0.260905</td>\n",
       "      <td>0.495053</td>\n",
       "      <td>0.304963</td>\n",
       "      <td>-1.199330</td>\n",
       "      <td>-0.342847</td>\n",
       "      <td>16.710340</td>\n",
       "      <td>-0.104230</td>\n",
       "      <td>-0.811237</td>\n",
       "      <td>-0.911527</td>\n",
       "      <td>2</td>\n",
       "      <td>False</td>\n",
       "      <td>False</td>\n",
       "      <td>True</td>\n",
       "    </tr>\n",
       "    <tr>\n",
       "      <th>3</th>\n",
       "      <td>3</td>\n",
       "      <td>-1.301354</td>\n",
       "      <td>-0.828226</td>\n",
       "      <td>1.010516</td>\n",
       "      <td>-0.802977</td>\n",
       "      <td>1.054179</td>\n",
       "      <td>-0.111631</td>\n",
       "      <td>-1.351886</td>\n",
       "      <td>0.927490</td>\n",
       "      <td>-0.337843</td>\n",
       "      <td>0.454762</td>\n",
       "      <td>-0.680402</td>\n",
       "      <td>-0.911527</td>\n",
       "      <td>3</td>\n",
       "      <td>True</td>\n",
       "      <td>False</td>\n",
       "      <td>False</td>\n",
       "    </tr>\n",
       "    <tr>\n",
       "      <th>4</th>\n",
       "      <td>4</td>\n",
       "      <td>-1.301354</td>\n",
       "      <td>-0.828226</td>\n",
       "      <td>1.222407</td>\n",
       "      <td>-0.505369</td>\n",
       "      <td>1.030487</td>\n",
       "      <td>-0.111631</td>\n",
       "      <td>-1.017382</td>\n",
       "      <td>0.626514</td>\n",
       "      <td>-0.333593</td>\n",
       "      <td>1.253320</td>\n",
       "      <td>-1.404723</td>\n",
       "      <td>-0.911527</td>\n",
       "      <td>4</td>\n",
       "      <td>False</td>\n",
       "      <td>False</td>\n",
       "      <td>False</td>\n",
       "    </tr>\n",
       "  </tbody>\n",
       "</table>\n",
       "</div>"
      ],
      "text/plain": [
       "   index  Residential Area  Air Quality  Room Numbers       Age  Distance  \\\n",
       "0      0         -1.282444    -0.137094      0.408975 -0.115644  0.172845   \n",
       "1      1         -0.590059    -0.733195      0.189974  0.369741  0.476100   \n",
       "2      2         -0.590059    -0.733195      1.276446 -0.260905  0.495053   \n",
       "3      3         -1.301354    -0.828226      1.010516 -0.802977  1.054179   \n",
       "4      4         -1.301354    -0.828226      1.222407 -0.505369  1.030487   \n",
       "\n",
       "   Teachers  Proportion of Poor Population  Number of Hospital Beds  \\\n",
       "0  1.462167                      -1.066368                -1.640299   \n",
       "1  0.304963                      -0.484136                -0.384875   \n",
       "2  0.304963                      -1.199330                -0.342847   \n",
       "3 -0.111631                      -1.351886                 0.927490   \n",
       "4 -0.111631                      -1.017382                 0.626514   \n",
       "\n",
       "   Number of Hotel Rooms  Rainfall     Parks      Sold  index  Airport_YES  \\\n",
       "0              -0.352111 -1.302068 -0.473132 -0.911527      0         True   \n",
       "1              -0.166019  0.215194 -0.775225  1.097060      1        False   \n",
       "2              16.710340 -0.104230 -0.811237 -0.911527      2        False   \n",
       "3              -0.337843  0.454762 -0.680402 -0.911527      3         True   \n",
       "4              -0.333593  1.253320 -1.404723 -0.911527      4        False   \n",
       "\n",
       "   Waterbody_Lake and River  Waterbody_River  \n",
       "0                     False             True  \n",
       "1                     False            False  \n",
       "2                     False             True  \n",
       "3                     False            False  \n",
       "4                     False            False  "
      ]
     },
     "execution_count": 135,
     "metadata": {},
     "output_type": "execute_result"
    }
   ],
   "source": [
    "# Make a DataFrame for independable variables\n",
    "df_independent = pd.concat([df_scale, dummy_var], axis = 1)\n",
    "df_independent.head()"
   ]
  },
  {
   "cell_type": "code",
   "execution_count": 136,
   "metadata": {},
   "outputs": [
    {
     "data": {
      "text/html": [
       "<div>\n",
       "<style scoped>\n",
       "    .dataframe tbody tr th:only-of-type {\n",
       "        vertical-align: middle;\n",
       "    }\n",
       "\n",
       "    .dataframe tbody tr th {\n",
       "        vertical-align: top;\n",
       "    }\n",
       "\n",
       "    .dataframe thead th {\n",
       "        text-align: right;\n",
       "    }\n",
       "</style>\n",
       "<table border=\"1\" class=\"dataframe\">\n",
       "  <thead>\n",
       "    <tr style=\"text-align: right;\">\n",
       "      <th></th>\n",
       "      <th>const</th>\n",
       "      <th>index</th>\n",
       "      <th>Residential Area</th>\n",
       "      <th>Air Quality</th>\n",
       "      <th>Room Numbers</th>\n",
       "      <th>Age</th>\n",
       "      <th>Distance</th>\n",
       "      <th>Teachers</th>\n",
       "      <th>Proportion of Poor Population</th>\n",
       "      <th>Number of Hospital Beds</th>\n",
       "      <th>Number of Hotel Rooms</th>\n",
       "      <th>Rainfall</th>\n",
       "      <th>Parks</th>\n",
       "      <th>Sold</th>\n",
       "      <th>index</th>\n",
       "      <th>Airport_YES</th>\n",
       "      <th>Waterbody_Lake and River</th>\n",
       "      <th>Waterbody_River</th>\n",
       "    </tr>\n",
       "  </thead>\n",
       "  <tbody>\n",
       "    <tr>\n",
       "      <th>0</th>\n",
       "      <td>1.0</td>\n",
       "      <td>0</td>\n",
       "      <td>-1.282444</td>\n",
       "      <td>-0.137094</td>\n",
       "      <td>0.408975</td>\n",
       "      <td>-0.115644</td>\n",
       "      <td>0.172845</td>\n",
       "      <td>1.462167</td>\n",
       "      <td>-1.066368</td>\n",
       "      <td>-1.640299</td>\n",
       "      <td>-0.352111</td>\n",
       "      <td>-1.302068</td>\n",
       "      <td>-0.473132</td>\n",
       "      <td>-0.911527</td>\n",
       "      <td>0</td>\n",
       "      <td>True</td>\n",
       "      <td>False</td>\n",
       "      <td>True</td>\n",
       "    </tr>\n",
       "    <tr>\n",
       "      <th>1</th>\n",
       "      <td>1.0</td>\n",
       "      <td>1</td>\n",
       "      <td>-0.590059</td>\n",
       "      <td>-0.733195</td>\n",
       "      <td>0.189974</td>\n",
       "      <td>0.369741</td>\n",
       "      <td>0.476100</td>\n",
       "      <td>0.304963</td>\n",
       "      <td>-0.484136</td>\n",
       "      <td>-0.384875</td>\n",
       "      <td>-0.166019</td>\n",
       "      <td>0.215194</td>\n",
       "      <td>-0.775225</td>\n",
       "      <td>1.097060</td>\n",
       "      <td>1</td>\n",
       "      <td>False</td>\n",
       "      <td>False</td>\n",
       "      <td>False</td>\n",
       "    </tr>\n",
       "    <tr>\n",
       "      <th>2</th>\n",
       "      <td>1.0</td>\n",
       "      <td>2</td>\n",
       "      <td>-0.590059</td>\n",
       "      <td>-0.733195</td>\n",
       "      <td>1.276446</td>\n",
       "      <td>-0.260905</td>\n",
       "      <td>0.495053</td>\n",
       "      <td>0.304963</td>\n",
       "      <td>-1.199330</td>\n",
       "      <td>-0.342847</td>\n",
       "      <td>16.710340</td>\n",
       "      <td>-0.104230</td>\n",
       "      <td>-0.811237</td>\n",
       "      <td>-0.911527</td>\n",
       "      <td>2</td>\n",
       "      <td>False</td>\n",
       "      <td>False</td>\n",
       "      <td>True</td>\n",
       "    </tr>\n",
       "    <tr>\n",
       "      <th>3</th>\n",
       "      <td>1.0</td>\n",
       "      <td>3</td>\n",
       "      <td>-1.301354</td>\n",
       "      <td>-0.828226</td>\n",
       "      <td>1.010516</td>\n",
       "      <td>-0.802977</td>\n",
       "      <td>1.054179</td>\n",
       "      <td>-0.111631</td>\n",
       "      <td>-1.351886</td>\n",
       "      <td>0.927490</td>\n",
       "      <td>-0.337843</td>\n",
       "      <td>0.454762</td>\n",
       "      <td>-0.680402</td>\n",
       "      <td>-0.911527</td>\n",
       "      <td>3</td>\n",
       "      <td>True</td>\n",
       "      <td>False</td>\n",
       "      <td>False</td>\n",
       "    </tr>\n",
       "    <tr>\n",
       "      <th>4</th>\n",
       "      <td>1.0</td>\n",
       "      <td>4</td>\n",
       "      <td>-1.301354</td>\n",
       "      <td>-0.828226</td>\n",
       "      <td>1.222407</td>\n",
       "      <td>-0.505369</td>\n",
       "      <td>1.030487</td>\n",
       "      <td>-0.111631</td>\n",
       "      <td>-1.017382</td>\n",
       "      <td>0.626514</td>\n",
       "      <td>-0.333593</td>\n",
       "      <td>1.253320</td>\n",
       "      <td>-1.404723</td>\n",
       "      <td>-0.911527</td>\n",
       "      <td>4</td>\n",
       "      <td>False</td>\n",
       "      <td>False</td>\n",
       "      <td>False</td>\n",
       "    </tr>\n",
       "  </tbody>\n",
       "</table>\n",
       "</div>"
      ],
      "text/plain": [
       "   const  index  Residential Area  Air Quality  Room Numbers       Age  \\\n",
       "0    1.0      0         -1.282444    -0.137094      0.408975 -0.115644   \n",
       "1    1.0      1         -0.590059    -0.733195      0.189974  0.369741   \n",
       "2    1.0      2         -0.590059    -0.733195      1.276446 -0.260905   \n",
       "3    1.0      3         -1.301354    -0.828226      1.010516 -0.802977   \n",
       "4    1.0      4         -1.301354    -0.828226      1.222407 -0.505369   \n",
       "\n",
       "   Distance  Teachers  Proportion of Poor Population  Number of Hospital Beds  \\\n",
       "0  0.172845  1.462167                      -1.066368                -1.640299   \n",
       "1  0.476100  0.304963                      -0.484136                -0.384875   \n",
       "2  0.495053  0.304963                      -1.199330                -0.342847   \n",
       "3  1.054179 -0.111631                      -1.351886                 0.927490   \n",
       "4  1.030487 -0.111631                      -1.017382                 0.626514   \n",
       "\n",
       "   Number of Hotel Rooms  Rainfall     Parks      Sold  index  Airport_YES  \\\n",
       "0              -0.352111 -1.302068 -0.473132 -0.911527      0         True   \n",
       "1              -0.166019  0.215194 -0.775225  1.097060      1        False   \n",
       "2              16.710340 -0.104230 -0.811237 -0.911527      2        False   \n",
       "3              -0.337843  0.454762 -0.680402 -0.911527      3         True   \n",
       "4              -0.333593  1.253320 -1.404723 -0.911527      4        False   \n",
       "\n",
       "   Waterbody_Lake and River  Waterbody_River  \n",
       "0                     False             True  \n",
       "1                     False            False  \n",
       "2                     False             True  \n",
       "3                     False            False  \n",
       "4                     False            False  "
      ]
     },
     "execution_count": 136,
     "metadata": {},
     "output_type": "execute_result"
    }
   ],
   "source": [
    "# Split the data for training and testing\n",
    "import statsmodels\n",
    "import statsmodels.api as sm\n",
    "\n",
    "df_independent = sm.add_constant(df_independent) \n",
    "df_independent.head()\n",
    "\n"
   ]
  },
  {
   "cell_type": "code",
   "execution_count": 137,
   "metadata": {},
   "outputs": [],
   "source": [
    "from sklearn.model_selection import train_test_split"
   ]
  },
  {
   "cell_type": "code",
   "execution_count": 138,
   "metadata": {},
   "outputs": [],
   "source": [
    "# Testing\n",
    "X_train, X_test, y_train, y_test = train_test_split(df_independent, df_target, random_state = 10, test_size = 0.2)"
   ]
  },
  {
   "cell_type": "code",
   "execution_count": 139,
   "metadata": {},
   "outputs": [
    {
     "name": "stdout",
     "output_type": "stream",
     "text": [
      "X_train (398, 18)\n",
      "y_train (398,)\n",
      "X_test (100, 18)\n",
      "y_test (100,)\n"
     ]
    }
   ],
   "source": [
    "# print dimensios of train set\n",
    "print('X_train', X_train.shape)\n",
    "print('y_train', y_train.shape)\n",
    "\n",
    "# print dimensions of test set\n",
    "print('X_test', X_test.shape)\n",
    "print('y_test', y_test.shape)"
   ]
  },
  {
   "cell_type": "code",
   "execution_count": 140,
   "metadata": {},
   "outputs": [
    {
     "data": {
      "text/plain": [
       "Index(['const', 'index', 'Residential Area', 'Air Quality', 'Room Numbers',\n",
       "       'Age', 'Distance', 'Teachers', 'Proportion of Poor Population',\n",
       "       'Number of Hospital Beds', 'Number of Hotel Rooms', 'Rainfall', 'Parks',\n",
       "       'Sold', 'index', 'Airport_YES', 'Waterbody_Lake and River',\n",
       "       'Waterbody_River'],\n",
       "      dtype='object')"
      ]
     },
     "execution_count": 140,
     "metadata": {},
     "output_type": "execute_result"
    }
   ],
   "source": [
    "X_train.columns"
   ]
  },
  {
   "cell_type": "markdown",
   "metadata": {},
   "source": [
    "## Linear Regression"
   ]
  },
  {
   "cell_type": "code",
   "execution_count": 141,
   "metadata": {},
   "outputs": [],
   "source": [
    "from sklearn.linear_model import LinearRegression\n",
    "from sklearn.metrics import mean_squared_error"
   ]
  },
  {
   "cell_type": "code",
   "execution_count": 142,
   "metadata": {},
   "outputs": [
    {
     "name": "stdout",
     "output_type": "stream",
     "text": [
      "Mean Squared Error :  15.498182384260279\n"
     ]
    }
   ],
   "source": [
    "# Create a linear regression model\n",
    "model = LinearRegression()\n",
    "\n",
    "#Fit the model to the training data\n",
    "model.fit(X_train, y_train)\n",
    "\n",
    "# Predict on the testing data\n",
    "predictions = model.predict(X_test)\n",
    "\n",
    "# Calculate mean squared error\n",
    "mse = mean_squared_error(y_test,predictions)\n",
    "print(\"Mean Squared Error : \" , mse)"
   ]
  },
  {
   "cell_type": "code",
   "execution_count": 144,
   "metadata": {},
   "outputs": [
    {
     "name": "stdout",
     "output_type": "stream",
     "text": [
      "Mean Absolute Error :  3.13314291328658\n"
     ]
    }
   ],
   "source": [
    "from sklearn.metrics import mean_absolute_error\n",
    "\n",
    "\n",
    "# Calculate mean absolute error\n",
    "mae = mean_absolute_error(y_test,predictions)\n",
    "print(\"Mean Absolute Error : \" , mae)"
   ]
  },
  {
   "cell_type": "code",
   "execution_count": 145,
   "metadata": {},
   "outputs": [
    {
     "name": "stdout",
     "output_type": "stream",
     "text": [
      "Mean Absolute Error :  3.936773092808408\n"
     ]
    }
   ],
   "source": [
    "from sklearn.metrics import root_mean_squared_error\n",
    "\n",
    "\n",
    "# Calculate mean absolute error\n",
    "rmse = root_mean_squared_error(y_test,predictions)\n",
    "print(\"Mean Absolute Error : \" , rmse)"
   ]
  },
  {
   "cell_type": "markdown",
   "metadata": {},
   "source": [
    "# Ridge Model"
   ]
  },
  {
   "cell_type": "code",
   "execution_count": null,
   "metadata": {},
   "outputs": [],
   "source": [
    "from sklearn.model_selection import train_test_split\n",
    "from sklearn.linear_model import Ridge\n",
    "from sklearn.metrics import mean_squared_error\n",
    "\n",
    "\n"
   ]
  }
 ],
 "metadata": {
  "kernelspec": {
   "display_name": "Python 3",
   "language": "python",
   "name": "python3"
  },
  "language_info": {
   "codemirror_mode": {
    "name": "ipython",
    "version": 3
   },
   "file_extension": ".py",
   "mimetype": "text/x-python",
   "name": "python",
   "nbconvert_exporter": "python",
   "pygments_lexer": "ipython3",
   "version": "3.10.12"
  }
 },
 "nbformat": 4,
 "nbformat_minor": 2
}
